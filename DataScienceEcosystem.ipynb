{
 "cells": [
  {
   "cell_type": "markdown",
   "id": "1fa6e3d7-9ed4-466c-8fe4-dd7615d255ab",
   "metadata": {},
   "source": [
    "# DataScienceEcosystem\n"
   ]
  },
  {
   "cell_type": "markdown",
   "id": "6de49017-dbb4-405f-ad81-8a3b861f8cba",
   "metadata": {},
   "source": [
    "In this notebook, Data Science Tools and Ecosystem are summarized."
   ]
  },
  {
   "cell_type": "markdown",
   "id": "87613559-e745-4c89-8830-10f80899dce2",
   "metadata": {},
   "source": [
    "**Objectives:**\n",
    "- List popular languages that Data Scientists use \n",
    "- List commonly used libraries used by Data Scientists \n",
    "- Make table of tools used in data science\n",
    "- Evaluating arithmetic expressions in Python\n",
    "- Converting minitues into the hours\n",
    "  "
   ]
  },
  {
   "cell_type": "markdown",
   "id": "d6cc30d4-dddb-489c-ac4c-b478ec44541c",
   "metadata": {},
   "source": [
    "Some of the popular languages that Data Scientists use are:\n",
    "1. pthon\n",
    "2. R\n",
    "3. julia\n",
    "4. java\n",
    "5. scala"
   ]
  },
  {
   "cell_type": "markdown",
   "id": "5e230725-6fe6-4962-86fc-bcb34d8d2dcf",
   "metadata": {},
   "source": [
    "Some of the commonly used libraries used by Data Scientists include:\n",
    "1. pandas\n",
    "2. numpy\n",
    "3. matplotlib\n",
    "4. seaborn\n",
    "5. scipy"
   ]
  },
  {
   "cell_type": "markdown",
   "id": "93808747-661d-49c2-9a56-6099c135762b",
   "metadata": {},
   "source": [
    "| Data Science Tools |\n",
    "| ------------------ |\n",
    "| MySQL |\n",
    "| Pixie Dust |\n",
    "| Seldon |\n",
    "| jupyternotebook |\n",
    "| Git |\n",
    "| Apache AirFlow |\n"
   ]
  },
  {
   "cell_type": "markdown",
   "id": "0ec310a8-e51c-4a11-a4f5-4a525528dba7",
   "metadata": {},
   "source": [
    "### Below are a few examples of evaluating arithmetic expressions in Python"
   ]
  },
  {
   "cell_type": "code",
   "execution_count": 10,
   "id": "a850a04a-9703-42a4-8c8d-4cff06d1af9a",
   "metadata": {},
   "outputs": [
    {
     "data": {
      "text/plain": [
       "17"
      ]
     },
     "execution_count": 10,
     "metadata": {},
     "output_type": "execute_result"
    }
   ],
   "source": [
    "#This a simple arithmetic expression to mutiply then add integers\n",
    "(3*4)+5"
   ]
  },
  {
   "cell_type": "code",
   "execution_count": 1,
   "id": "4fce8e0a-1a42-4ed5-93aa-335fac6c624e",
   "metadata": {},
   "outputs": [
    {
     "name": "stdout",
     "output_type": "stream",
     "text": [
      "hours :: 3.3333333333333335\n"
     ]
    }
   ],
   "source": [
    "# This will convert 200 minutes to hours by diving by 60.\n",
    "minutes= 200\n",
    "\n",
    "#to convert these minitues into the hours we need to divide it by 60 \n",
    "hours=minutes/60\n",
    "\n",
    "#printing hours\n",
    "print(\"hours ::\",hours)"
   ]
  },
  {
   "cell_type": "markdown",
   "id": "ab334ea1-9568-4fdb-8987-644b815705ab",
   "metadata": {},
   "source": [
    "## Author\n",
    "Rohan Rabade"
   ]
  },
  {
   "cell_type": "code",
   "execution_count": null,
   "id": "c8419f63-62ad-4c1c-8d68-e13a3488bab4",
   "metadata": {},
   "outputs": [],
   "source": []
  }
 ],
 "metadata": {
  "kernelspec": {
   "display_name": "Python 3 (ipykernel)",
   "language": "python",
   "name": "python3"
  },
  "language_info": {
   "codemirror_mode": {
    "name": "ipython",
    "version": 3
   },
   "file_extension": ".py",
   "mimetype": "text/x-python",
   "name": "python",
   "nbconvert_exporter": "python",
   "pygments_lexer": "ipython3",
   "version": "3.12.4"
  }
 },
 "nbformat": 4,
 "nbformat_minor": 5
}
